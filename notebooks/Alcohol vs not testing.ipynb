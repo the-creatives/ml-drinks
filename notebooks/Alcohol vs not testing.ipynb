{
 "cells": [
  {
   "cell_type": "code",
   "execution_count": 2,
   "metadata": {
    "collapsed": false
   },
   "outputs": [],
   "source": [
    "import indicoio\n",
    "indicoio.config.api_key = '<API KEY HERE>'\n",
    "\n",
    "from indicoio.custom import Collection\n",
    "from indicoio.custom import collections\n",
    "collection = Collection(\"<NAME OF COLLECTION HERE>\")\n",
    "\n",
    "from IPython.display import Image\n",
    "from IPython.core.display import HTML"
   ]
  },
  {
   "cell_type": "code",
   "execution_count": 10,
   "metadata": {
    "collapsed": false
   },
   "outputs": [
    {
     "data": {
      "text/html": [
       "<img src=\"http://route66hotels.org/wp-content/uploads/2015/09/Bar-People.jpg\" width=\"400\"/>"
      ],
      "text/plain": [
       "<IPython.core.display.Image object>"
      ]
     },
     "execution_count": 10,
     "metadata": {},
     "output_type": "execute_result"
    }
   ],
   "source": [
    "# Here's an example workflow of how we should refine the model. We pick an image of a scene of a bar.\n",
    "# Hopefully the model will recognize the large numbers of wine bottles visible in the background.\n",
    "image_url = \"http://route66hotels.org/wp-content/uploads/2015/09/Bar-People.jpg\"\n",
    "Image(url=image_url, width=400)"
   ]
  },
  {
   "cell_type": "code",
   "execution_count": 11,
   "metadata": {
    "collapsed": false
   },
   "outputs": [
    {
     "data": {
      "text/plain": [
       "{u'alcohol': 0.9249178985000001, u'not alcohol': 0.0750821015}"
      ]
     },
     "execution_count": 11,
     "metadata": {},
     "output_type": "execute_result"
    }
   ],
   "source": [
    "# We run predict on the image.\n",
    "collection.predict(image_url)"
   ]
  },
  {
   "cell_type": "code",
   "execution_count": 17,
   "metadata": {
    "collapsed": false
   },
   "outputs": [
    {
     "data": {
      "text/plain": [
       "{u'alcohol': 0.0760918435, u'not alcohol': 0.9239081565}"
      ]
     },
     "execution_count": 17,
     "metadata": {},
     "output_type": "execute_result"
    }
   ],
   "source": [
    "# It looks like this model successfully categorized the image!\n",
    "# You can try swapping image URLs in this cell. If you find any false positives or false negatives, add them to the Google Doc!\n",
    "\n",
    "#image_url = \"http://www.smartmeetings.com/wp-content/uploads/2015/07/beer-and-barbeque.jpg\"\n",
    "#image_url = \"http://static1.squarespace.com/static/518ea9e4e4b0eb1ecff22776/t/5564cb74e4b07bf170915d70/1432669090276/\"\n",
    "#image_url = \"http://www.mealkitsupply.com/MRE/wp-content/uploads/2015/09/MRE-hurricane-disaster.jpg\"\n",
    "image_url = \"http://getmres.com/wp-content/uploads/2012/07/single_meal_pic.jpg\"\n",
    "collection.predict(image_url)"
   ]
  }
 ],
 "metadata": {
  "kernelspec": {
   "display_name": "Python 2",
   "language": "python",
   "name": "python2"
  },
  "language_info": {
   "codemirror_mode": {
    "name": "ipython",
    "version": 2
   },
   "file_extension": ".py",
   "mimetype": "text/x-python",
   "name": "python",
   "nbconvert_exporter": "python",
   "pygments_lexer": "ipython2",
   "version": "2.7.12"
  }
 },
 "nbformat": 4,
 "nbformat_minor": 0
}
