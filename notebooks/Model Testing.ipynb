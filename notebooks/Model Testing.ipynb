{
 "cells": [
  {
   "cell_type": "code",
   "execution_count": 23,
   "metadata": {
    "collapsed": true
   },
   "outputs": [],
   "source": [
    "import indicoio\n",
    "import random\n",
    "import math\n",
    "indicoio.config.api_key = '<Your Key Here>'\n",
    "from indicoio.custom import Collection\n",
    "from indicoio.custom import collections\n",
    "collection = Collection(\"AlcFromTheGroundUp\")"
   ]
  },
  {
   "cell_type": "code",
   "execution_count": 30,
   "metadata": {
    "collapsed": true
   },
   "outputs": [],
   "source": [
    "# Photos of people with alcohol bottles or solo cups\n",
    "people_with_alcohol = [\"http://3.bp.blogspot.com/-YXPja16Lg2s/UT7y-bkJDDI/AAAAAAAAA7M/dvzBxhF1mHw/s1600/drunk-couple.jpg\",\n",
    "\"https://armstrongtimes.files.wordpress.com/2014/10/people-drinking-alcohol.jpg\",\n",
    "\"https://i.guim.co.uk/img/static/sys-images/Guardian/Pix/pictures/2011/10/20/1319066356660/Young-people-want-more-pr-007.jpg?w=620&q=55&auto=format&usm=12&fit=max&s=a22c48235212b1f8f4e1cebf4b201a1e\",\n",
    "\"http://cdn.theatlantic.com/static/mt/assets/food/BeerBottles-REUTERS-Post.jpg\",\n",
    "\"https://images.alphacoders.com/181/181543.jpg\",\n",
    "\"http://petergreenberg.com/wp-content/uploads/2012/12/IMG_9318.jpg\",\n",
    "\"https://media-cdn.tripadvisor.com/media/photo-s/04/4b/0f/cd/old-city-hostel.jpg\",\n",
    "\"https://scontent-iad3-1.xx.fbcdn.net/v/t1.0-9/1780677_666428916797637_1431842191424078855_n.jpg?oh=8a9a5498c72f3a77dbbc560dfc2d7db3&oe=5879FAFC\",\n",
    "\"https://scontent-iad3-1.xx.fbcdn.net/v/t1.0-9/10629588_666429343464261_6940730339291541487_n.jpg?oh=4cfcaff408bce85004358ce422414381&oe=5874CD5F\",\n",
    "\"http://i.huffpost.com/gen/1918341/images/o-ENERGY-DRINKS-ALCOHOL-MIX-facebook.jpg\",\n",
    "\"https://i.ytimg.com/vi/oKmdf_XGwjE/maxresdefault.jpg\",\n",
    "\"http://www.myvmc.com/wp-content/uploads/2011/12/beautiful-women-party-alcohol.jpg\",\n",
    "\"http://warmoregon.org/wp-content/uploads/2013/02/alcohol.jpg\",\n",
    "\"https://newhousenews.files.wordpress.com/2010/03/24870_1305391322579_1464390165_30925756_6830561_n.jpg\",\n",
    "\"http://occhycicero.org/wp-content/uploads/2014/04/bigstock-Group-Of-Teenage-Friends-Danci-13922474.jpg\",\n",
    "\"http://a.abcnews.com/images/abcnewsnow/GTY_teen_house_party_jtm_131023_16x9_608.jpg\",\n",
    "\"http://i.myniceprofile.com/1275/127500.png\",\n",
    "\"https://s-media-cache-ak0.pinimg.com/564x/85/34/ff/8534fff289bf38790f6b88314fe4d431.jpg\",\n",
    "\"https://thetubebrighton.files.wordpress.com/2011/07/tumblr_lozvngdd7k1qar1xfo1_500.jpg\",\n",
    "\"http://s1.favim.com/orig/20/alcohol-being-sick-grey-goose-hot-party-Favim.com-204763.jpg\",\n",
    "\"http://data.whicdn.com/images/48170829/large.png\",\n",
    "\"https://i.ytimg.com/vi/lJYUITCWv0w/maxresdefault.jpg\",\n",
    "\"http://chscourier.com/wp-content/uploads/2014/04/drinking3.jpg\",\n",
    "\"http://www-static2.spulsecdn.net/pics/00/02/66/45/2664552_1_O.jpg\",\n",
    "\"http://www.painetworks.com/photos/jx/jx2290.JPG\",\n",
    "\"http://youredm.youredm1.netdna-cdn.com/wp-content/uploads/2015/01/party-alcohol-weed1.png?cddaf1\",\n",
    "\"http://images.hellogiggles.com/uploads/2014/12/12/girls-drinking-party.jpg\",\n",
    "\"https://scontent-iad3-1.xx.fbcdn.net/v/t1.0-0/cp0/e15/q65/p240x240/12049126_10153578314135196_1536135315994357701_n.jpg?efg=eyJpIjoiYiJ9&oh=a1e284b051eee70b95981f188623c846&oe=5839D607\",\n",
    "\"http://chinalawandpolicy.com/wp-content/uploads/2012/10/s1.reutersmedia.net_.jpg\",\n",
    "\"http://www.travelchannel.com/content/dam/images/travel/video/0/02/022/0222/0222056.jpg\",\n",
    "\"http://kekidoll.com/wp-content/uploads/2014/04/wpid-wp-1398850759929.jpeg\",\n",
    "\"http://cdn6.bigcommerce.com/s-gq0mr2f7/product_images/uploaded_images/party.png?t=1434836248\",\n",
    "\"http://www.juniorsclub.gr/wp-content/uploads/2015/06/young-people-drinking-martinis-and-cocktails.jpg\",\n",
    "\"http://premiercellar.com/blog/wp-content/uploads/2015/05/B9316351797Z.1_20150224052145_000_GUUA1RIP1.1-0.jpg\",\n",
    "\"http://www.slate.com/content/dam/slate/articles/health_and_science/medical_examiner/2014/10/141002_MEDEX_AlcoholDrinking.jpg.CROP.promo-mediumlarge.jpg\", \"alcohol\"]"
   ]
  },
  {
   "cell_type": "code",
   "execution_count": 25,
   "metadata": {
    "collapsed": false
   },
   "outputs": [
    {
     "data": {
      "text/plain": [
       "True"
      ]
     },
     "execution_count": 25,
     "metadata": {},
     "output_type": "execute_result"
    }
   ],
   "source": [
    "# Cans - Alcohol\n",
    "collection.add_data([[\"http://coolspotters.com/files/photos/972088/pabst-blue-ribbon-beer-can-profile.jpg\", \"alcohol\"],\n",
    "[\"https://s-media-cache-ak0.pinimg.com/236x/ab/cd/44/abcd44711d852dba3d3816da4d31f700.jpg\", \"alcohol\"],\n",
    "[\"http://preview.turbosquid.com/Preview/2014/05/17__10_42_07/179133_Stella_Artois_Beer_Can_001.jpg552a532b-ace7-4bd1-86f7-eae8d131a196Original.jpg\", \"alcohol\"],\n",
    "[\"http://anheuser-busch.com/image.php//Bowtie-Can-Low-Res3.jpg?width=215&image=/Bowtie-Can-Low-Res3.jpg\", \"alcohol\"],\n",
    "[\"http://storefoundry.s3.amazonaws.com/store_items/images/000/001/758/large/star-500x500.jpg?1451842691\", \"alcohol\"],\n",
    "[\"http://image.ecplaza.net/offer/u/udsm2000/5069119_m.jpg\", \"alcohol\"],\n",
    "[\"http://www.treasurechest.ie/509-thickbox_default/guinness-beer-can-money-bank.jpg\", \"alcohol\"]])"
   ]
  },
  {
   "cell_type": "code",
   "execution_count": 26,
   "metadata": {
    "collapsed": false
   },
   "outputs": [
    {
     "data": {
      "text/plain": [
       "True"
      ]
     },
     "execution_count": 26,
     "metadata": {},
     "output_type": "execute_result"
    }
   ],
   "source": [
    "# Cans - Not Alcohol\n",
    "collection.add_data([[\"http://topmostfood.co.uk/wp-content/uploads/2012/04/Pepsi-330ml.jpg\", \"not alcohol\"],\n",
    "[\"http://www.ajwholesale.co.uk/media/catalog/product/cache/1/image/800x800/9df78eab33525d08d6e5fb8d27136e95/c/o/coca-cola-can.jpg\", \"not alcohol\"],\n",
    "[\"http://i.dailymail.co.uk/i/pix/2012/08/16/article-0-0346E626000005DC-50_228x427.jpg\", \"not alcohol\"],\n",
    "[\"http://www.polyvore.com/cgi/img-thing?.out=jpg&size=l&tid=4402260\", \"not alcohol\"],\n",
    "[\"http://www.starbucks.com/assets/54412fa4d4734c23b47a676aa221d859.jpg\", \"not alcohol\"]])"
   ]
  },
  {
   "cell_type": "code",
   "execution_count": 28,
   "metadata": {
    "collapsed": false
   },
   "outputs": [
    {
     "data": {
      "text/plain": [
       "True"
      ]
     },
     "execution_count": 28,
     "metadata": {},
     "output_type": "execute_result"
    }
   ],
   "source": [
    "bottlesAlcoholHardLiquor = [\"http://esq.h-cdn.co/assets/cm/15/07/54dae3380b900_-_jim-beam-bottle-0209-lg-52835519.jpg\",\n",
    "\"https://www.cognac-expert.com/1072-thickbox_default/martell-xo-cognac-cordon-bleu.jpg\",\n",
    "\"https://upload.wikimedia.org/wikipedia/commons/3/39/New_drambuie_bottle.jpg\",\n",
    "\"http://cdn.designsmag.netdna-cdn.com/wp-content/uploads/2011/05/GoodOlSailorOrganicVodka.jpg\",\n",
    "\"https://img.buzzfeed.com/buzzfeed-static/static/2013-12/enhanced/webdr03/11/13/enhanced-buzz-30035-1386785215-9.jpg\",\n",
    "\"https://thecollegeplayer.files.wordpress.com/2014/06/skol_vodka1-75-500x500.jpg\",\n",
    "\"http://liquor.s3.amazonaws.com/wp-content/uploads/liquor-2015/spirits/bottle_bourbon_square.jpg\",\n",
    "\"http://liquor.s3.amazonaws.com/wp-content/uploads/liquor-2015/spirits/bottle_scotch_square.jpg\",\n",
    "\"http://www.shopritewine.com/media/spirits/15940b.jpg\",\n",
    "\"http://sr1.wine-searcher.net/images/labels/20/06/jan-becher-becherovka-original-liqueur-carlsbad-czech-republic-10502006.jpg\",\n",
    "\"https://www.danmurphys.com.au/media/DM/Product/750x2000/905814_0_9999_v1_m56577569835793686.jpg\",\n",
    "\"https://qph.ec.quoracdn.net/main-qimg-5c309736d33bcecfa8b92012dfc2bfa7-c?convert_to_webp=true\",\n",
    "\"https://s-media-cache-ak0.pinimg.com/236x/40/44/29/40442973da0d109d3d3b1eb900e70227.jpg\",\n",
    "\"https://www.webresourcesfree.com/wp-content/uploads/2015/09/Versatile-Bottle-MockUp.jpg\"]\n",
    "collection.add_data(zip(bottlesAlcoholHardLiquor, [\"alcohol\"] * len(bottlesAlcoholHardLiquor)))"
   ]
  },
  {
   "cell_type": "code",
   "execution_count": 27,
   "metadata": {
    "collapsed": false
   },
   "outputs": [
    {
     "data": {
      "text/plain": [
       "True"
      ]
     },
     "execution_count": 27,
     "metadata": {},
     "output_type": "execute_result"
    }
   ],
   "source": [
    "# Bottles - Not Alcohol\n",
    "bottlesNotAlcohol = [\"http://3.imimg.com/data3/CX/MX/MY-5891322/soft-drink-bottle-250x250.jpg\",\n",
    "\"https://www.psdmockups.com/wp-content/uploads/2013/04/2-litre-plastic-soft-drink-soda-bottle-psd-mockup.jpg\",\n",
    "\"https://taldepot.com/media/catalog/product/cache/1/thumbnail/600x600/9df78eab33525d08d6e5fb8d27136e95/s/p/sp-32-12-ks.jpg\",\n",
    "\"https://b88999e18c89e80431a4-abc09c86eb4dd7b78c0b34703b49a2cf.ssl.cf2.rackcdn.com/0012000001800_A1A3_ItemMaster_type_large.jpeg\",\n",
    "\"https://images-na.ssl-images-amazon.com/images/I/413BRHdfxZL._SX342_.jpg\",\n",
    "\"http://www.usafoods.co.nz/shop/632-773-large/dublin-dr-pepper-240ml-glass-bottle.jpg\",\n",
    "\"http://test.etalianfood.com/media/catalog/product/cache/1/image/1200x1200/9df78eab33525d08d6e5fb8d27136e95/i/n/incontrilimonementa-piperita.jpg\",\n",
    "\"https://s-media-cache-ak0.pinimg.com/236x/eb/22/fc/eb22fc41c712fd0372ab6350d483c55f.jpg\",\n",
    "\"https://aaeurope-localedge1.netdna-ssl.com/wp-content/uploads/2015/05/san-pellegrino-aranciata-blue-glass-24x200ml.jpg\",\n",
    "\"https://images-na.ssl-images-amazon.com/images/I/41H7rx6M%2BiL._AC_UL320_SR240,320_.jpg\"]\n",
    "collection.add_data(zip(bottlesNotAlcohol, [\"not alcohol\"] * len(bottlesNotAlcohol)))"
   ]
  },
  {
   "cell_type": "code",
   "execution_count": 31,
   "metadata": {
    "collapsed": false
   },
   "outputs": [
    {
     "data": {
      "text/plain": [
       "True"
      ]
     },
     "execution_count": 31,
     "metadata": {},
     "output_type": "execute_result"
    }
   ],
   "source": [
    "# Bottles - Alcohol - Beer\n",
    "bottlesAlcoholBeer = [\"http://drink-brands.com/drinks/wp-content/uploads/2012/12/BecksBeerBottleAlcoholicDrink.jpg\",\n",
    "\"http://www.bevindustry.com/ext/resources/2012/2012_March/BI0312_SpecialReport_Modelo-Especial-Bottle_slide.jpg\",\n",
    "\"http://www.kingdomliquor.com/wp-content/uploads/2014/09/Corona-Bottle.png\",\n",
    "\"https://s-media-cache-ak0.pinimg.com/236x/84/45/1a/84451a41db9e3e492bff7e834b9b603e.jpg\",\n",
    "\"https://www.france44.com/media/catalog/product/cache/1/image/9df78eab33525d08d6e5fb8d27136e95/g/u/guinness_btls_6_alum_4.gif\",\n",
    "\"https://s-media-cache-ak0.pinimg.com/236x/af/32/32/af32328a9c39f0714f590b2e4fbeb95b.jpg\",\n",
    "\"http://img.doooor.com/img/forum/201109/06/140228ez6qx71mf31zc4xt.jpg\",\n",
    "\"http://previews.123rf.com/images/scukrov/scukrov1501/scukrov150100138/35729363-IRVINE-CA-JANUARY-11-2015-A-bottle-of-Bitburger-Beer-isolated-on-white-Bitburger-is-a-German-family--Stock-Photo.jpg\",\n",
    "\"http://www.beergiftsbelgium.be/media/catalog/product/cache/3/image/9df78eab33525d08d6e5fb8d27136e95/d/u/duvel_75cl_fles.jpg\"]\n",
    "collection.add_data(zip(bottlesAlcoholBeer, [\"alcohol\"] * len(bottlesAlcoholBeer)))"
   ]
  },
  {
   "cell_type": "code",
   "execution_count": 33,
   "metadata": {
    "collapsed": false
   },
   "outputs": [
    {
     "data": {
      "text/plain": [
       "{u'input_type': u'image',\n",
       " u'metrics': {u'class_accuracy': 0.8692307692000001,\n",
       "  u'precision': {u'alcohol': 0.9327777778, u'not alcohol': 0.7833333333},\n",
       "  u'recall': {u'alcohol': 0.8777777778, u'not alcohol': 0.85}},\n",
       " u'model_type': u'classification',\n",
       " u'number_of_examples': 45,\n",
       " u'permissions': {u'read': [], u'write': []},\n",
       " u'public': False,\n",
       " u'registered': False,\n",
       " u'status': u'ready'}"
      ]
     },
     "execution_count": 33,
     "metadata": {},
     "output_type": "execute_result"
    }
   ],
   "source": [
    "collection.info()"
   ]
  },
  {
   "cell_type": "code",
   "execution_count": 37,
   "metadata": {
    "collapsed": false
   },
   "outputs": [
    {
     "data": {
      "text/plain": [
       "[{u'alcohol': 0.7341701012, u'not alcohol': 0.2658298988},\n",
       " {u'alcohol': 0.8810842211000001, u'not alcohol': 0.1189157789},\n",
       " {u'alcohol': 0.8514754459, u'not alcohol': 0.1485245541},\n",
       " {u'alcohol': 0.8990492325, u'not alcohol': 0.10095076750000001},\n",
       " {u'alcohol': 0.7843925547, u'not alcohol': 0.2156074453},\n",
       " {u'alcohol': 0.9300796563, u'not alcohol': 0.0699203437},\n",
       " {u'alcohol': 0.8832671365, u'not alcohol': 0.1167328635},\n",
       " {u'alcohol': 0.7564870232, u'not alcohol': 0.2435129768},\n",
       " {u'alcohol': 0.6952841772, u'not alcohol': 0.30471582280000004},\n",
       " {u'alcohol': 0.9123706572, u'not alcohol': 0.08762934280000001}]"
      ]
     },
     "execution_count": 37,
     "metadata": {},
     "output_type": "execute_result"
    }
   ],
   "source": [
    "collection.predict(people_with_alcohol[0:10])"
   ]
  },
  {
   "cell_type": "code",
   "execution_count": 41,
   "metadata": {
    "collapsed": true
   },
   "outputs": [],
   "source": [
    "people_without_alcohol_business_meetings = [\"https://www.thestar.com/content/dam/thestar/business/2013/06/28/how_to_be_effective_at_meetings_say_yeah/business_meeting.jpg\",\n",
    "\"http://mindpluckd.com/wp-content/uploads/2015/03/business-meeting_Large-1.jpg\",\n",
    "\"https://www.newjerseyshareholdersrightslaw.com/wp-content/uploads/Business-meeting-photo-website-IDI-e1375141940267.jpg\",\n",
    "\"http://www.mansharamani.com/wp-content/uploads/photodune-4951817-businesspeople-having-a-business-meeting-l.jpg\",\n",
    "\"http://www.strath.ac.uk/media/1newwebsite/departmentsubject/business/Business_people_in_office.jpg\",\n",
    "\"http://www.personnalitevoyage.com.br/wp-content/uploads/2016/05/C3.jpg\",\n",
    "\"http://www.usnews.com/cmsmedia/dd/91/2105ed274174ac7bfc934ff1e906/150312businessprofessional-meeting-stock.jpg\",\n",
    "\"https://blog.demandmetric.com/wp-content/uploads/2013/01/business-meeting-1.jpg\",\n",
    "\"http://www.lawfulrebellion.org.uk/wp-content/uploads/2015/10/business-meeting.jpg\",\n",
    "\"http://www.whitedeergolf.com/sites/default/files/businessmeeting2.jpg\",\n",
    "\"http://previews.123rf.com/images/phonbjm/phonbjm1310/phonbjm131000003/22614254-Business-Meeting-Stock-Photo-business-asian-people.jpg\",\n",
    "\"http://www.businessnewsdaily.com/images/i/000/006/937/original/boring-meeting.jpg?interpolation=lanczos-none&fit=around%7C700:500\",\n",
    "\"http://www.businessstudynotes.com/wp-content/uploads/2015/12/Participant-Responsibilities-in-Business-Meeting2.jpg\",\n",
    "\"http://morningsidebarc.org/wp-content/uploads/2016/06/Speaking-Up-in-Business-Meeting.jpg\"]"
   ]
  },
  {
   "cell_type": "code",
   "execution_count": 46,
   "metadata": {
    "collapsed": false
   },
   "outputs": [
    {
     "data": {
      "text/plain": [
       "[{u'alcohol': 0.7541045177, u'not alcohol': 0.2458954823},\n",
       " {u'alcohol': 0.46400412090000004, u'not alcohol': 0.5359958791},\n",
       " {u'alcohol': 0.7940355939, u'not alcohol': 0.2059644061},\n",
       " {u'alcohol': 0.7709205791, u'not alcohol': 0.2290794209},\n",
       " {u'alcohol': 0.2640723213, u'not alcohol': 0.7359276787},\n",
       " {u'alcohol': 0.7142224385, u'not alcohol': 0.2857775615},\n",
       " {u'alcohol': 0.8955357213, u'not alcohol': 0.10446427870000001},\n",
       " {u'alcohol': 0.4001334198, u'not alcohol': 0.5998665802},\n",
       " {u'alcohol': 0.4623360313, u'not alcohol': 0.5376639687},\n",
       " {u'alcohol': 0.4154822543, u'not alcohol': 0.5845177457}]"
      ]
     },
     "execution_count": 46,
     "metadata": {},
     "output_type": "execute_result"
    }
   ],
   "source": [
    "collection.predict(people_without_alcohol_business_meetings[0:10])"
   ]
  },
  {
   "cell_type": "code",
   "execution_count": 44,
   "metadata": {
    "collapsed": false
   },
   "outputs": [
    {
     "data": {
      "text/plain": [
       "True"
      ]
     },
     "execution_count": 44,
     "metadata": {},
     "output_type": "execute_result"
    }
   ],
   "source": [
    "whiteBackgrounds = [\"http://hdwallpaperbackgrounds.net/wp-content/uploads/2016/07/white-background-2.jpg\",\n",
    "\"http://images.all-free-download.com/images/graphiclarge/plain_white_background_211387.jpg\",\n",
    "\"http://www.publicdomainpictures.net/pictures/70000/velka/old-white-background.jpg\",\n",
    "\"http://www.spyderonlines.com/images/wallpapers/white-background-image/white-background-image-6.png\",\n",
    "\"http://guldfasanen4.se/wordpress/wp-content/uploads/2015/05/white-room-background_web.jpg\"]\n",
    "collection.add_data(zip(whiteBackgrounds, [\"not alcohol\"] * len(whiteBackgrounds)))"
   ]
  },
  {
   "cell_type": "code",
   "execution_count": 45,
   "metadata": {
    "collapsed": false
   },
   "outputs": [
    {
     "data": {
      "text/plain": [
       "{u'input_type': u'image',\n",
       " u'metrics': {u'class_accuracy': 0.8692307692000001,\n",
       "  u'precision': {u'alcohol': 0.9327777778, u'not alcohol': 0.7833333333},\n",
       "  u'recall': {u'alcohol': 0.8777777778, u'not alcohol': 0.85}},\n",
       " u'model_type': u'classification',\n",
       " u'number_of_examples': 50,\n",
       " u'permissions': {u'read': [], u'write': []},\n",
       " u'public': False,\n",
       " u'registered': False,\n",
       " u'status': u'training'}"
      ]
     },
     "execution_count": 45,
     "metadata": {},
     "output_type": "execute_result"
    }
   ],
   "source": [
    "collection.train()"
   ]
  }
 ],
 "metadata": {
  "kernelspec": {
   "display_name": "Python 2",
   "language": "python",
   "name": "python2"
  },
  "language_info": {
   "codemirror_mode": {
    "name": "ipython",
    "version": 2
   },
   "file_extension": ".py",
   "mimetype": "text/x-python",
   "name": "python",
   "nbconvert_exporter": "python",
   "pygments_lexer": "ipython2",
   "version": "2.7.12"
  }
 },
 "nbformat": 4,
 "nbformat_minor": 0
}
